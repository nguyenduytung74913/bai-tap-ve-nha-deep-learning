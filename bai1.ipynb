{
  "nbformat": 4,
  "nbformat_minor": 0,
  "metadata": {
    "colab": {
      "name": "bai1",
      "provenance": [],
      "mount_file_id": "1vkHrq8uThzkBnz0myI_T17q6EXbEE6Hw",
      "authorship_tag": "ABX9TyNBBe/D12/TGsYKIH8S3bk5",
      "include_colab_link": true
    },
    "kernelspec": {
      "name": "python3",
      "display_name": "Python 3"
    },
    "accelerator": "GPU"
  },
  "cells": [
    {
      "cell_type": "markdown",
      "metadata": {
        "id": "view-in-github",
        "colab_type": "text"
      },
      "source": [
        "<a href=\"https://colab.research.google.com/github/nguyenduytung74913/bai-tap-ve-nha-deep-learning/blob/main/bai1.ipynb\" target=\"_parent\"><img src=\"https://colab.research.google.com/assets/colab-badge.svg\" alt=\"Open In Colab\"/></a>"
      ]
    },
    {
      "cell_type": "code",
      "metadata": {
        "id": "CMmCC4FrUnse",
        "outputId": "ee1bf7db-c15c-43cd-8dd3-d7b32667e000",
        "colab": {
          "base_uri": "https://localhost:8080/",
          "height": 51
        }
      },
      "source": [
        "!pip install scipy"
      ],
      "execution_count": null,
      "outputs": [
        {
          "output_type": "stream",
          "text": [
            "Requirement already satisfied: scipy in /usr/local/lib/python3.6/dist-packages (1.4.1)\n",
            "Requirement already satisfied: numpy>=1.13.3 in /usr/local/lib/python3.6/dist-packages (from scipy) (1.18.5)\n"
          ],
          "name": "stdout"
        }
      ]
    },
    {
      "cell_type": "code",
      "metadata": {
        "id": "IK12zmJmVGwL"
      },
      "source": [
        "try:\n",
        "  # Use the %tensorflow_version magic if in colab.\n",
        "  %tensorflow_version 2.x\n",
        "except Exception:\n",
        "  pass\n",
        "\n",
        "import tensorflow as tf\n",
        "import os\n",
        "import dlib\n",
        "import cv2\n",
        "import time\n",
        "import math\n",
        "import datetime\n",
        "import matplotlib.pyplot as plt\n",
        "import os\n",
        "import pickle\n",
        "import numpy as np\n",
        "import scipy.io\n",
        "import bz2\n",
        "from random import randint"
      ],
      "execution_count": null,
      "outputs": []
    },
    {
      "cell_type": "code",
      "metadata": {
        "id": "IM3pAyneVOsB",
        "outputId": "4d03abbd-1b8e-493e-d503-5b58b9c57bcf",
        "colab": {
          "base_uri": "https://localhost:8080/",
          "height": 51
        }
      },
      "source": [
        "if not os.path.exists(os.path.abspath('.') + 'mmod_human_face_detector.dat.bz2'):\n",
        "    annotation_zip = tf.keras.utils.get_file('mmod_human_face_detector.dat.bz2',\n",
        "                            cache_subdir=os.path.abspath('.'),\n",
        "                            origin = \"http://dlib.net/files/mmod_human_face_detector.dat.bz2\")\n",
        "# Using pythons bz2 package to read the bz2 file in binary format and write it into a .dat file\n",
        "with bz2.open(\"mmod_human_face_detector.dat.bz2\", \"rb\") as f:\n",
        "    content = f.read()\n",
        "\n",
        "    with open(\"mmod_human_face_detector.dat\", \"wb\") as weights_file:\n",
        "        weights_file.write(content)\n",
        "\n",
        "os.remove(annotation_zip)\n"
      ],
      "execution_count": null,
      "outputs": [
        {
          "output_type": "stream",
          "text": [
            "Downloading data from http://dlib.net/files/mmod_human_face_detector.dat.bz2\n",
            "696320/694709 [==============================] - 2s 3us/step\n"
          ],
          "name": "stdout"
        }
      ]
    },
    {
      "cell_type": "code",
      "metadata": {
        "id": "2Wl-dlLhVT8b",
        "outputId": "06d5be3c-2240-4c95-c896-5dc0f47f0f0e",
        "colab": {
          "base_uri": "https://localhost:8080/",
          "height": 51
        }
      },
      "source": [
        "dataset_url = 'https://data.vision.ee.ethz.ch/cvl/rrothe/imdb-wiki/static/wiki_crop.tar'\n",
        "annotation_folder = \"wiki_crop\"\n",
        "if not os.path.exists(os.path.abspath('.') + annotation_folder):\n",
        "    annotation_zip = tf.keras.utils.get_file('wiki.tar',\n",
        "                                            cache_subdir=os.path.abspath('.'),\n",
        "                                            origin = dataset_url,\n",
        "                                            extract = True)\n",
        "    os.remove(annotation_zip)\n",
        "data_key = 'wiki'\n",
        "mat_file = 'wiki.mat'\n"
      ],
      "execution_count": null,
      "outputs": [
        {
          "output_type": "stream",
          "text": [
            "Downloading data from https://data.vision.ee.ethz.ch/cvl/rrothe/imdb-wiki/static/wiki_crop.tar\n",
            "811319296/811315200 [==============================] - 87s 0us/step\n"
          ],
          "name": "stdout"
        }
      ]
    },
    {
      "cell_type": "code",
      "metadata": {
        "id": "PRC-y0iQVVnW"
      },
      "source": [
        "mat = scipy.io.loadmat(annotation_folder+'/'+mat_file)\n",
        "data = mat[data_key]\n",
        "route = data[0][0][2][0]\n",
        "name = []\n",
        "age = []\n",
        "gender = []\n",
        "images = []\n",
        "total = 0\n",
        "project_path = \"drive/My Drive/Colab Notebooks/Tutorial/Gender Classifier\""
      ],
      "execution_count": null,
      "outputs": []
    },
    {
      "cell_type": "code",
      "metadata": {
        "id": "_SxZnkF1Zl-c",
        "outputId": "30bfff10-b67c-4956-f607-82bae2fce5d3",
        "colab": {
          "base_uri": "https://localhost:8080/",
          "height": 318
        }
      },
      "source": [
        "cnn_face_detector = dlib.cnn_face_detection_model_v1(\"mmod_human_face_detector.dat\")\n",
        "plt.figure()\n",
        "i = 1\n",
        "\n",
        "while(i <= 4):\n",
        "    index = randint(0, len(route))\n",
        "    if((math.isnan(data[0][0][6][0][index]) == False and data[0][0][6][0][index] > 0)):\n",
        "        img = cv2.imread('wiki_crop/'+data[0][0][2][0][index][0])\n",
        "        img = cv2.cvtColor(img, cv2.COLOR_BGR2RGB)\n",
        "        faces_cnn = cnn_face_detector(img, 1)\n",
        "\n",
        "        for face in faces_cnn:\n",
        "            offset_x , offset_y  = max(faces_cnn[0].rect.left(),0),max(faces_cnn[0].rect.top(),0)\n",
        "            target_width, target_height = faces_cnn[0].rect.right() - offset_x, faces_cnn[0].rect.bottom() - offset_y\n",
        "            target_width = min(target_width, img.shape[1]-offset_x)\n",
        "            target_height = min(target_height, img.shape[0]-offset_y)\n",
        "            # draw box over face\n",
        "            face_img = tf.image.crop_to_bounding_box(img, \n",
        "                                                    offset_y, offset_x, \n",
        "                                                    target_height,target_width)\n",
        "            cv2.rectangle(img, (offset_x,offset_y), (offset_x+target_width,offset_y+target_height), (0,255,0), 2)\n",
        "            face_img = tf.image.resize(face_img, (32, 32), method=tf.image.ResizeMethod.BICUBIC, antialias=True)\n",
        "            face_img = tf.dtypes.cast(face_img, tf.int32)\n",
        "            # Plotting images\n",
        "            plt.subplot(2, 2, i)\n",
        "            plt.imshow(img)\n",
        "            plt.title(data[0][0][4][0][index][0])\n",
        "            plt.subplot(2,2, i+1)\n",
        "            plt.imshow(face_img)\n",
        "            i += 2"
      ],
      "execution_count": null,
      "outputs": [
        {
          "output_type": "stream",
          "text": [
            "WARNING:matplotlib.image:Clipping input data to the valid range for imshow with RGB data ([0..1] for floats or [0..255] for integers).\n"
          ],
          "name": "stderr"
        },
        {
          "output_type": "display_data",
          "data": {
            "image/png": "[encoded data removed]",
            "text/plain": [
              "<Figure size 432x288 with 4 Axes>"
            ]
          },
          "metadata": {
            "tags": [],
            "needs_background": "light"
          }
        }
      ]
    },
    {
      "cell_type": "code",
      "metadata": {
        "id": "8M0Vp1XvZx-8",
        "outputId": "b9febddb-05e4-4aa3-e26d-562d6f0481e6",
        "colab": {
          "base_uri": "https://localhost:8080/",
          "height": 136
        }
      },
      "source": [
        "total = 0\n",
        "cnn_face_detector = dlib.cnn_face_detection_model_v1(\"mmod_human_face_detector.dat\")\n",
        "today = datetime.date.today()\n",
        "for i in range(0,len(route)):\n",
        "    if i%100 is 0:\n",
        "        print(i)\n",
        "    try:\n",
        "        if((math.isnan(data[0][0][6][0][i]) == False and data[0][0][6][0][i] > 0) and \n",
        "        math.isnan(data[0][0][3][0][i]) == False):\n",
        "            img = cv2.imread(annotation_folder+\"/\"+route[i][0])\n",
        "            img = cv2.cvtColor(img, cv2.COLOR_BGR2RGB)\n",
        "\n",
        "            faces_cnn = cnn_face_detector(img, 1)\n",
        "\n",
        "            if len(faces_cnn) == 1:\n",
        "\n",
        "                total += 1\n",
        "                offset_x , offset_y  = max(faces_cnn[0].rect.left(),0),max(faces_cnn[0].rect.top(),0)\n",
        "                target_width, target_height = faces_cnn[0].rect.right() - offset_x, faces_cnn[0].rect.bottom() - offset_y\n",
        "\n",
        "                target_width = min(target_width, img.shape[1]-offset_x)\n",
        "                target_height = min(target_height, img.shape[0]-offset_y)\n",
        "\n",
        "                face_img = tf.image.crop_to_bounding_box(img, \n",
        "                                                        offset_y, offset_x, \n",
        "                                                        target_height,target_width)\n",
        "                \n",
        "                face_img = tf.image.resize(face_img, (32, 32), method=tf.image.ResizeMethod.BICUBIC, antialias=True)\n",
        "                face_img = tf.dtypes.cast(face_img, tf.int32)\n",
        "                \n",
        "                images.append(face_img.numpy())\n",
        "                temp = datetime.date.fromordinal(int(data[0][0][0][0][i])) - datetime.timedelta(days = 366)\n",
        "                age.append([today.year - temp.year])\n",
        "                name.append(data[0][0][4][0][i])\n",
        "                gender.append([data[0][0][3][0][i]])\n",
        "\n",
        "    except Exception as err:\n",
        "        print(err)\n",
        "        print(\"error in i value \", i)\n",
        "        if (len(name) == total):\n",
        "            name.pop()\n",
        "        if (len(gender) == total):\n",
        "            gender.pop()\n",
        "        if (len(age) == total):\n",
        "            age.pop()\n",
        "        if (len(images) == total):\n",
        "            images.pop()\n",
        "        total -= 1\n",
        "    \n",
        "    except KeyboardInterrupt:\n",
        "        break\n",
        "print(total, \" elements were processed and stored\")"
      ],
      "execution_count": null,
      "outputs": [
        {
          "output_type": "stream",
          "text": [
            "0\n",
            "100\n",
            "200\n",
            "300\n",
            "400\n",
            "500\n",
            "391  elements were processed and stored\n"
          ],
          "name": "stdout"
        }
      ]
    },
    {
      "cell_type": "code",
      "metadata": {
        "id": "R6T-sp6HdKTL"
      },
      "source": [
        "meta_data = {\n",
        "    \"images\" : images,\n",
        "    \"name\" : name,\n",
        "    \"age\" : age,\n",
        "    \"gender\" : gender\n",
        "}\n",
        "if not os.path.exists(project_path+\"/dataset\"):\n",
        "    os.mkdir(project_path+\"/dataset\")\n",
        "binary_file = open(project_path+\"/dataset/wiki_data.pickle\", \"ab\")\n",
        "pickle.dump(meta_data, binary_file )\n",
        "binary_file.close()"
      ],
      "execution_count": null,
      "outputs": []
    },
    {
      "cell_type": "code",
      "metadata": {
        "id": "utPqxezhhilr",
        "outputId": "be4d2f34-8f72-43a0-d8eb-c0acf2417d22",
        "colab": {
          "base_uri": "https://localhost:8080/",
          "height": 34
        }
      },
      "source": [
        "print(\"..............................................................................................................\")"
      ],
      "execution_count": null,
      "outputs": [
        {
          "output_type": "stream",
          "text": [
            "..............................................................................................................\n"
          ],
          "name": "stdout"
        }
      ]
    },
    {
      "cell_type": "code",
      "metadata": {
        "id": "sCej2N-BhtRg"
      },
      "source": [
        ""
      ],
      "execution_count": null,
      "outputs": []
    },
    {
      "cell_type": "code",
      "metadata": {
        "id": "b4pz26L5ZF37",
        "outputId": "f3570cab-5e43-4fa6-ece3-0ab0843b082c",
        "colab": {
          "base_uri": "https://localhost:8080/",
          "height": 51
        }
      },
      "source": [
        "!pip install scipy"
      ],
      "execution_count": null,
      "outputs": [
        {
          "output_type": "stream",
          "text": [
            "Requirement already satisfied: scipy in /usr/local/lib/python3.6/dist-packages (1.4.1)\n",
            "Requirement already satisfied: numpy>=1.13.3 in /usr/local/lib/python3.6/dist-packages (from scipy) (1.18.5)\n"
          ],
          "name": "stdout"
        }
      ]
    },
    {
      "cell_type": "code",
      "metadata": {
        "id": "EJMS0hp6jmB5",
        "outputId": "a606c13c-e5b8-45d5-ecf8-9a60c6c929c7",
        "colab": {
          "base_uri": "https://localhost:8080/",
          "height": 51
        }
      },
      "source": [
        "try:\n",
        "  # Use the %tensorflow_version magic if in colab.\n",
        "  %tensorflow_version 2.x\n",
        "except Exception:\n",
        "  pass\n",
        "  \n",
        "import tensorflow as tf\n",
        "from tensorflow.keras.callbacks import TensorBoard\n",
        "from tensorflow.keras.layers import Dense, Conv2D, Dropout, BatchNormalization, Input, Activation, MaxPooling2D, Flatten\n",
        "import os\n",
        "import dlib\n",
        "import cv2\n",
        "import pickle\n",
        "import matplotlib.pyplot as plt\n",
        "import numpy as np\n",
        "import pandas as pd\n",
        "import math\n",
        "import datetime\n",
        "import plotly.express as px\n",
        "from random import randint\n",
        "from IPython.display import display, Javascript\n",
        "from google.colab.output import eval_js\n",
        "from base64 import b64decode\n",
        "%load_ext tensorboard\n",
        "project_path = \"drive/My Drive/Colab Notebooks/Tutorial/Gender Classifier\"\n"
      ],
      "execution_count": null,
      "outputs": [
        {
          "output_type": "stream",
          "text": [
            "The tensorboard extension is already loaded. To reload it, use:\n",
            "  %reload_ext tensorboard\n"
          ],
          "name": "stdout"
        }
      ]
    },
    {
      "cell_type": "code",
      "metadata": {
        "id": "13keWC4ZSNPL",
        "outputId": "eb713623-36ca-4b2c-d7e0-29b6f22aeeee",
        "colab": {
          "base_uri": "https://localhost:8080/",
          "height": 214
        }
      },
      "source": [
        "data = open(project_path+\"/dataset/wiki_data.pickle\", \"rb\")\n",
        "data = pickle.load(data)\n",
        "\n",
        "images = np.array(data['images'])\n",
        "gender = np.array(data['gender'])\n",
        "print('''The shape of the images array is : {}\\n The shape is an image is : {}\\n The shape of the gender array is : {}'''.format(images.shape, images[0].shape, gender.shape))"
      ],
      "execution_count": null,
      "outputs": [
        {
          "output_type": "error",
          "ename": "IndexError",
          "evalue": "ignored",
          "traceback": [
            "\u001b[0;31m---------------------------------------------------------------------------\u001b[0m",
            "\u001b[0;31mIndexError\u001b[0m                                Traceback (most recent call last)",
            "\u001b[0;32m<ipython-input-23-8463d00d649a>\u001b[0m in \u001b[0;36m<module>\u001b[0;34m()\u001b[0m\n\u001b[1;32m      4\u001b[0m \u001b[0mimages\u001b[0m \u001b[0;34m=\u001b[0m \u001b[0mnp\u001b[0m\u001b[0;34m.\u001b[0m\u001b[0marray\u001b[0m\u001b[0;34m(\u001b[0m\u001b[0mdata\u001b[0m\u001b[0;34m[\u001b[0m\u001b[0;34m'images'\u001b[0m\u001b[0;34m]\u001b[0m\u001b[0;34m)\u001b[0m\u001b[0;34m\u001b[0m\u001b[0;34m\u001b[0m\u001b[0m\n\u001b[1;32m      5\u001b[0m \u001b[0mgender\u001b[0m \u001b[0;34m=\u001b[0m \u001b[0mnp\u001b[0m\u001b[0;34m.\u001b[0m\u001b[0marray\u001b[0m\u001b[0;34m(\u001b[0m\u001b[0mdata\u001b[0m\u001b[0;34m[\u001b[0m\u001b[0;34m'gender'\u001b[0m\u001b[0;34m]\u001b[0m\u001b[0;34m)\u001b[0m\u001b[0;34m\u001b[0m\u001b[0;34m\u001b[0m\u001b[0m\n\u001b[0;32m----> 6\u001b[0;31m \u001b[0mprint\u001b[0m\u001b[0;34m(\u001b[0m\u001b[0;34m'''The shape of the images array is : {}\\n The shape is an image is : {}\\n The shape of the gender array is : {}'''\u001b[0m\u001b[0;34m.\u001b[0m\u001b[0mformat\u001b[0m\u001b[0;34m(\u001b[0m\u001b[0mimages\u001b[0m\u001b[0;34m.\u001b[0m\u001b[0mshape\u001b[0m\u001b[0;34m,\u001b[0m \u001b[0mimages\u001b[0m\u001b[0;34m[\u001b[0m\u001b[0;36m0\u001b[0m\u001b[0;34m]\u001b[0m\u001b[0;34m.\u001b[0m\u001b[0mshape\u001b[0m\u001b[0;34m,\u001b[0m \u001b[0mgender\u001b[0m\u001b[0;34m.\u001b[0m\u001b[0mshape\u001b[0m\u001b[0;34m)\u001b[0m\u001b[0;34m)\u001b[0m\u001b[0;34m\u001b[0m\u001b[0;34m\u001b[0m\u001b[0m\n\u001b[0m",
            "\u001b[0;31mIndexError\u001b[0m: index 0 is out of bounds for axis 0 with size 0"
          ]
        }
      ]
    }
  ]
}